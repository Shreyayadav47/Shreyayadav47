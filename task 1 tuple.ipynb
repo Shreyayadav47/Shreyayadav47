{
 "cells": [
  {
   "cell_type": "code",
   "execution_count": 3,
   "id": "d25eafa8-7c61-4767-8371-af85d28a86c7",
   "metadata": {},
   "outputs": [],
   "source": [
    "mytuple = (\"red\", \"yellow\", \"green\")"
   ]
  },
  {
   "cell_type": "code",
   "execution_count": 4,
   "id": "b21c51f1-558a-44c5-916e-28369cedb56e",
   "metadata": {},
   "outputs": [
    {
     "name": "stdout",
     "output_type": "stream",
     "text": [
      "('red', 'yellow', 'green')\n"
     ]
    }
   ],
   "source": [
    "# tupple creation \n",
    "this_tuple = (\"red\", \"yellow\", \"green\")\n",
    "print(this_tuple)"
   ]
  },
  {
   "cell_type": "code",
   "execution_count": 8,
   "id": "83e5daae-f7d7-41d0-adb4-5014e8aaaa64",
   "metadata": {},
   "outputs": [
    {
     "data": {
      "text/plain": [
       "tuple"
      ]
     },
     "execution_count": 8,
     "metadata": {},
     "output_type": "execute_result"
    }
   ],
   "source": [
    "type(this_tuple)"
   ]
  },
  {
   "cell_type": "code",
   "execution_count": 11,
   "id": "7af377d2-37a5-43c1-871a-eab5049290cd",
   "metadata": {},
   "outputs": [
    {
     "data": {
      "text/plain": [
       "()"
      ]
     },
     "execution_count": 11,
     "metadata": {},
     "output_type": "execute_result"
    }
   ],
   "source": [
    "# empty tuple\n",
    "this_tuple = ()\n",
    "this_tuple"
   ]
  },
  {
   "cell_type": "code",
   "execution_count": 14,
   "id": "e2782a7e-c7f9-40d0-8d3b-e1e1d1e1479c",
   "metadata": {},
   "outputs": [
    {
     "data": {
      "text/plain": [
       "(1, 2, 3)"
      ]
     },
     "execution_count": 14,
     "metadata": {},
     "output_type": "execute_result"
    }
   ],
   "source": [
    "#tuple of integers\n",
    "this_tuple = (1,2,3)\n",
    "this_tuple"
   ]
  },
  {
   "cell_type": "code",
   "execution_count": 15,
   "id": "02f30936-ca19-4cba-ae9b-d4b28c326f7c",
   "metadata": {},
   "outputs": [
    {
     "name": "stdout",
     "output_type": "stream",
     "text": [
      "('red', 'yellow', 'green', 'red', 'yellow')\n"
     ]
    }
   ],
   "source": [
    "#tuples allow duplicate value\n",
    "this_tuple = (\"red\", \"yellow\", \"green\",\"red\", \"yellow\")\n",
    "print(this_tuple)"
   ]
  },
  {
   "cell_type": "code",
   "execution_count": 17,
   "id": "439baed7-d2f6-4da4-92e4-50bad072abcc",
   "metadata": {},
   "outputs": [
    {
     "name": "stdout",
     "output_type": "stream",
     "text": [
      "3\n"
     ]
    }
   ],
   "source": [
    "#tuple length \n",
    "#to determin how many items a tuple has, use the len() function :\n",
    "this_tuple = tuple((\"red\", \"yellow\", \"green\"))\n",
    "print(len(this_tuple))"
   ]
  },
  {
   "cell_type": "code",
   "execution_count": 19,
   "id": "4218c26c-56d9-4039-8fe7-8ca4a1909aef",
   "metadata": {},
   "outputs": [
    {
     "name": "stdout",
     "output_type": "stream",
     "text": [
      "<class 'tuple'>\n",
      "<class 'str'>\n"
     ]
    }
   ],
   "source": [
    "#create tuple with one item \n",
    "#To create a tuple with only one item, you have to add a comma after the item, otherwise Python will not recognize it as a tuple.\n",
    "\n",
    "this_tuple = (\"red\",)\n",
    "print(type(this_tuple))\n",
    "\n",
    "#NOT a tuple\n",
    "this_tuple = (\"red\")\n",
    "print(type(this_tuple))"
   ]
  },
  {
   "cell_type": "code",
   "execution_count": 23,
   "id": "b32b59d8-cd49-46c9-aa88-b99793755920",
   "metadata": {},
   "outputs": [
    {
     "name": "stdout",
     "output_type": "stream",
     "text": [
      "('red', 'yellow', 'green')\n",
      "(1, 5, 7, 9, 3)\n",
      "(True, False, False)\n"
     ]
    }
   ],
   "source": [
    "#data type\n",
    "#Tuple items can be of any data type (String, int and boolean)\n",
    "\n",
    "tuple1 = (\"red\", \"yellow\", \"green\")\n",
    "print(tuple1)\n",
    "\n",
    "tuple2 = (1, 5, 7, 9, 3)\n",
    "print(tuple2)\n",
    "\n",
    "tuple3 = (True, False, False)\n",
    "print(tuple3)\n"
   ]
  },
  {
   "cell_type": "code",
   "execution_count": 21,
   "id": "8b387833-8fe4-4119-bb71-325c8ef48d4d",
   "metadata": {},
   "outputs": [
    {
     "name": "stdout",
     "output_type": "stream",
     "text": [
      "('pqr', 60, True, 80, 'female')\n"
     ]
    }
   ],
   "source": [
    "#A tuple can contain different data types\n",
    "tuple1 = (\"pqr\", 60, True, 80, \"female\")\n",
    "print(tuple1)"
   ]
  },
  {
   "cell_type": "code",
   "execution_count": 24,
   "id": "f1d6ffd3-9b2d-4b0d-a0ee-d961674584fe",
   "metadata": {},
   "outputs": [
    {
     "name": "stdout",
     "output_type": "stream",
     "text": [
      "('red', 'yellow', 'green')\n"
     ]
    }
   ],
   "source": [
    "#The tuple() Constructor\n",
    "this_tuple = tuple((\"red\", \"yellow\", \"green\")) # note the double round-brackets\n",
    "print(this_tuple)"
   ]
  },
  {
   "cell_type": "code",
   "execution_count": 25,
   "id": "f3434b22-dbf9-408f-b15d-8d5c59b85ea7",
   "metadata": {},
   "outputs": [
    {
     "name": "stdout",
     "output_type": "stream",
     "text": [
      "green\n"
     ]
    }
   ],
   "source": [
    "#Access Tuple Items\n",
    "#You can access tuple items by referring to the index number, inside square brackets:\n",
    "this_tuple = (\"red\", \"yellow\", \"green\")\n",
    "print(this_tuple[2])"
   ]
  },
  {
   "cell_type": "code",
   "execution_count": 29,
   "id": "e1f86a47-e99e-46be-8b7f-d8ea2190db3c",
   "metadata": {},
   "outputs": [
    {
     "name": "stdout",
     "output_type": "stream",
     "text": [
      "yellow\n"
     ]
    }
   ],
   "source": [
    "#Negative Indexing\n",
    "#the index of -1 refers to the last item, -2 refers to the second last item etc.\n",
    "\n",
    "this_tuple = (\"red\", \"yellow\", \"green\")\n",
    "print(this_tuple[-2])"
   ]
  },
  {
   "cell_type": "code",
   "execution_count": 32,
   "id": "b29ef8ab-b268-4fb5-ace8-b4e724f233ef",
   "metadata": {},
   "outputs": [
    {
     "data": {
      "text/plain": [
       "('p', 'q', 'r', 'a', 'i', 'o', 'u', 's', 't')"
      ]
     },
     "execution_count": 32,
     "metadata": {},
     "output_type": "execute_result"
    }
   ],
   "source": [
    "#Range of Indexes\n",
    "#You can specify a range of indexes by specifying where to start and where to end the range.\n",
    "this_tuple = (\"p\",\"q\",\"r\",\"a\",\"i\",\"o\",\"u\",\"s\",\"t\")\n",
    "this_tuple[:]"
   ]
  },
  {
   "cell_type": "code",
   "execution_count": 33,
   "id": "03163e5a-b243-4609-8bcb-04e202fb818e",
   "metadata": {},
   "outputs": [
    {
     "name": "stdout",
     "output_type": "stream",
     "text": [
      "('a', 'i', 'o')\n"
     ]
    }
   ],
   "source": [
    "#element 3rd to 5th    # start:include      end:exclude\n",
    "print(this_tuple[3:6])"
   ]
  },
  {
   "cell_type": "code",
   "execution_count": 34,
   "id": "762dda65-4b54-4189-8f71-bcaf15067d57",
   "metadata": {},
   "outputs": [
    {
     "name": "stdout",
     "output_type": "stream",
     "text": [
      "('u', 's', 't')\n"
     ]
    }
   ],
   "source": [
    "#element 6th to end\n",
    "print(this_tuple[6:])"
   ]
  },
  {
   "cell_type": "code",
   "execution_count": 35,
   "id": "a7b2c21b-9fe3-44b2-aa30-d9ebecf24de5",
   "metadata": {},
   "outputs": [
    {
     "name": "stdout",
     "output_type": "stream",
     "text": [
      "('p', 'q', 'r', 'a', 'i', 'o', 'u', 's', 't')\n"
     ]
    }
   ],
   "source": [
    "#element begining to end \n",
    "print(this_tuple[:])"
   ]
  },
  {
   "cell_type": "code",
   "execution_count": 36,
   "id": "e18cf26e-f635-4d35-a6c6-75d1a25131db",
   "metadata": {},
   "outputs": [
    {
     "name": "stdout",
     "output_type": "stream",
     "text": [
      "('p', 'q', 'r', 'a')\n"
     ]
    }
   ],
   "source": [
    "#the items from the beginning to, but NOT included, \"i\":\n",
    "this_tuple = (\"p\",\"q\",\"r\",\"a\",\"i\",\"o\",\"u\",\"s\",\"t\")\n",
    "print(this_tuple[:4])"
   ]
  },
  {
   "cell_type": "code",
   "execution_count": 37,
   "id": "6cbb6efe-72a8-4bd5-875c-0ed812cbf2ff",
   "metadata": {},
   "outputs": [
    {
     "name": "stdout",
     "output_type": "stream",
     "text": [
      "('o', 'u', 's')\n"
     ]
    }
   ],
   "source": [
    "#range of negetive index\n",
    "#the items from index -4 (included) to index -1 (excluded)\n",
    "this_tuple = (\"p\",\"q\",\"r\",\"a\",\"i\",\"o\",\"u\",\"s\",\"t\")\n",
    "print(this_tuple[-4:-1])"
   ]
  },
  {
   "cell_type": "code",
   "execution_count": null,
   "id": "f076d9a4-bf84-4e90-8081-604e680616f7",
   "metadata": {},
   "outputs": [],
   "source": [
    "#Negative indexing means starting from the end of the tuple.\n",
    "\n",
    "#This example returns the items from index -4 (included) to index -1 (excluded)\n",
    "\n",
    "#Remember that the last item has the index -1,\n"
   ]
  },
  {
   "cell_type": "code",
   "execution_count": 38,
   "id": "a734504c-b54f-4e98-a275-4637811cc4af",
   "metadata": {},
   "outputs": [
    {
     "name": "stdout",
     "output_type": "stream",
     "text": [
      "Yes, 'red' is in the colours tuple\n"
     ]
    }
   ],
   "source": [
    "#Check if Item Exists\n",
    "#To determine if a specified item is present in a tuple use the in keyword:\n",
    "this_tuple = (\"red\",\"yellow\",\"blue\")\n",
    "if \"red\" in this_tuple:\n",
    "  print(\"Yes, 'red' is in the colours tuple\")"
   ]
  },
  {
   "cell_type": "code",
   "execution_count": 39,
   "id": "cf3b7028-c84f-44a7-9483-716ab3a3cd36",
   "metadata": {},
   "outputs": [
    {
     "name": "stdout",
     "output_type": "stream",
     "text": [
      "('red', 'green', 'blue')\n"
     ]
    }
   ],
   "source": [
    "#Change Tuple Values\n",
    "#You can convert the tuple into a list, change the list, and convert the list back into a tuple.\n",
    "\n",
    "x = (\"red\",\"yellow\",\"blue\")\n",
    "y = list(x)\n",
    "y[1] = \"green\"\n",
    "x = tuple(y)\n",
    "print(x)\n"
   ]
  },
  {
   "cell_type": "code",
   "execution_count": 40,
   "id": "b9ec1d11-9643-4cb4-b392-c6c080ae1ac7",
   "metadata": {},
   "outputs": [
    {
     "name": "stdout",
     "output_type": "stream",
     "text": [
      "('red', 'yellow', 'blue', 'orange')\n"
     ]
    }
   ],
   "source": [
    "#Add Items\n",
    "#Convert into a list: you can convert it into a list, add your item(s), and convert it back into a tuple.\n",
    "\n",
    "this_tuple = (\"red\",\"yellow\",\"blue\")\n",
    "y = list(this_tuple)\n",
    "y.append(\"orange\")\n",
    "this_tuple = tuple(y)\n",
    "print(this_tuple)"
   ]
  },
  {
   "cell_type": "code",
   "execution_count": 43,
   "id": "92988062-cb12-4332-b217-6b756b4dab77",
   "metadata": {},
   "outputs": [
    {
     "name": "stdout",
     "output_type": "stream",
     "text": [
      "('red', 'yellow', 'blue', 'orange')\n"
     ]
    }
   ],
   "source": [
    "# Add tuple to a tuple. \n",
    "#You are allowed to add tuples to tuples, so if you want to add one item,create a new tuple with the item(s), and add it to the existing tuple:\n",
    "\n",
    "this_tuple = (\"red\",\"yellow\",\"blue\")\n",
    "y = (\"orange\",)\n",
    "this_tuple += y\n",
    "print(this_tuple)"
   ]
  },
  {
   "cell_type": "code",
   "execution_count": 44,
   "id": "60d51f4a-944c-4868-b0f4-f3a4cbe7c6a8",
   "metadata": {},
   "outputs": [
    {
     "name": "stdout",
     "output_type": "stream",
     "text": [
      "('yellow', 'blue')\n"
     ]
    }
   ],
   "source": [
    "#Remove Items\n",
    "#Tuples are unchangeable, so you cannot remove items from it, but you can use the same workaround as we used for changing and adding tuple items:\n",
    "\n",
    "this_tuple = (\"red\",\"yellow\",\"blue\")\n",
    "y = list(this_tuple)\n",
    "y.remove(\"red\")\n",
    "this_tuple = tuple(y)\n",
    "print(this_tuple)"
   ]
  },
  {
   "cell_type": "code",
   "execution_count": 47,
   "id": "bdd3a7a4-ca02-44f3-bcbd-4a69714f26dc",
   "metadata": {},
   "outputs": [
    {
     "name": "stdout",
     "output_type": "stream",
     "text": [
      "('apple', 'banana', 'cherry')\n"
     ]
    }
   ],
   "source": [
    "#Unpacking a Tuple\n",
    "#When we create a tuple, we normally assign values to it. This is called \"packing\" a tuple:\n",
    "\n",
    "fruits = (\"apple\", \"banana\", \"cherry\")\n",
    "print(fruits)"
   ]
  },
  {
   "cell_type": "code",
   "execution_count": 48,
   "id": "a9641ac0-3263-429c-af86-35665d3ea80c",
   "metadata": {},
   "outputs": [
    {
     "name": "stdout",
     "output_type": "stream",
     "text": [
      "apple\n",
      "banana\n",
      "cherry\n"
     ]
    }
   ],
   "source": [
    "#we are also allowed to extract the values back into variables. This is called \"unpacking\":\n",
    "\n",
    "fruits = (\"apple\", \"banana\", \"cherry\")\n",
    "\n",
    "(green, yellow, red) = fruits\n",
    "\n",
    "print(green)\n",
    "print(yellow)\n",
    "print(red)\n"
   ]
  },
  {
   "cell_type": "code",
   "execution_count": 49,
   "id": "0efbc368-7d7a-4bb4-95fb-88a971545ab8",
   "metadata": {},
   "outputs": [
    {
     "name": "stdout",
     "output_type": "stream",
     "text": [
      "apple\n",
      "banana\n",
      "['cherry', 'strawberry', 'raspberry']\n"
     ]
    }
   ],
   "source": [
    "#Using Asterisk*\n",
    "#If the number of variables is less than the number of values, you can add an * to the variable name and the values will be assigned to the variable as a list:\n",
    "\n",
    "fruits = (\"apple\", \"banana\", \"cherry\", \"strawberry\", \"raspberry\")\n",
    "\n",
    "(green, yellow, *red) = fruits\n",
    "\n",
    "print(green)\n",
    "print(yellow)\n",
    "print(red)"
   ]
  },
  {
   "cell_type": "code",
   "execution_count": 50,
   "id": "52192757-92a2-46ae-b66e-682b6effa285",
   "metadata": {},
   "outputs": [
    {
     "name": "stdout",
     "output_type": "stream",
     "text": [
      "apple\n",
      "banana\n",
      "cherry\n"
     ]
    }
   ],
   "source": [
    "#Loop Through a Tuple\n",
    "#You can loop through the tuple items by using a for loop.\n",
    "\n",
    "this_tuple = (\"apple\", \"banana\", \"cherry\")\n",
    "for x in this_tuple:\n",
    "  print(x)"
   ]
  },
  {
   "cell_type": "code",
   "execution_count": 51,
   "id": "ea04d05c-8d56-43d9-a56e-f750c855c12a",
   "metadata": {},
   "outputs": [
    {
     "name": "stdout",
     "output_type": "stream",
     "text": [
      "apple\n",
      "banana\n",
      "cherry\n"
     ]
    }
   ],
   "source": [
    "#Loop Through the Index Numbers\n",
    "#You can also loop through the tuple items by referring to their index number.\n",
    "\n",
    "this_tuple = (\"apple\", \"banana\", \"cherry\")\n",
    "for i in range(len(this_tuple)):\n",
    "  print(this_tuple[i])"
   ]
  },
  {
   "cell_type": "code",
   "execution_count": 53,
   "id": "526584fa-4610-41fe-ad47-3620cd0085f8",
   "metadata": {},
   "outputs": [
    {
     "name": "stdout",
     "output_type": "stream",
     "text": [
      "apple\n",
      "banana\n",
      "cherry\n"
     ]
    }
   ],
   "source": [
    "#Using a While Loop\n",
    "#You can loop through the tuple items by using a while loop.\n",
    "\n",
    "this_tuple = (\"apple\", \"banana\", \"cherry\")\n",
    "i = 0\n",
    "while i < len(this_tuple):\n",
    "  print(this_tuple[i])\n",
    "  i = i + 1"
   ]
  },
  {
   "cell_type": "code",
   "execution_count": 54,
   "id": "5ecf9ec2-d46b-4ae9-9099-71453b48a2cf",
   "metadata": {},
   "outputs": [
    {
     "name": "stdout",
     "output_type": "stream",
     "text": [
      "('p', 'q', 'r', 10, 20, 30)\n"
     ]
    }
   ],
   "source": [
    "#Join Two Tuples\n",
    "#To join two or more tuples you can use the + operator:\n",
    "\n",
    "tuple1 = (\"p\", \"q\" , \"r\")\n",
    "tuple2 = (10, 20, 30)\n",
    "\n",
    "tuple3 = tuple1 + tuple2\n",
    "print(tuple3)"
   ]
  },
  {
   "cell_type": "code",
   "execution_count": 55,
   "id": "b9581522-5506-4679-885f-78d96525d347",
   "metadata": {},
   "outputs": [
    {
     "name": "stdout",
     "output_type": "stream",
     "text": [
      "('red', 'yellow', 'blue', 'red', 'yellow', 'blue')\n"
     ]
    }
   ],
   "source": [
    "#Multiply Tuples\n",
    "#If you want to multiply the content of a tuple a given number of times, you can use the * operator:\n",
    "\n",
    "colour = (\"red\", \"yellow\", \"blue\")\n",
    "this_tuple = colours * 2\n",
    "\n",
    "print(this_tuple)"
   ]
  },
  {
   "cell_type": "code",
   "execution_count": null,
   "id": "4f7b3b83-9cf1-4ab1-b730-ec78ef526a2b",
   "metadata": {},
   "outputs": [],
   "source": [
    "#Tuple Methods\n",
    "#Python has two built-in methods that you can use on tuples.\n",
    "\n",
    "Method              Description\n",
    "\n",
    "count()         \tReturns the number of times a specified value occurs in a tuple\n",
    "index()\t            Searches the tuple for a specified value and returns the position of where it was found"
   ]
  }
 ],
 "metadata": {
  "kernelspec": {
   "display_name": "Python 3 (ipykernel)",
   "language": "python",
   "name": "python3"
  },
  "language_info": {
   "codemirror_mode": {
    "name": "ipython",
    "version": 3
   },
   "file_extension": ".py",
   "mimetype": "text/x-python",
   "name": "python",
   "nbconvert_exporter": "python",
   "pygments_lexer": "ipython3",
   "version": "3.11.7"
  }
 },
 "nbformat": 4,
 "nbformat_minor": 5
}
