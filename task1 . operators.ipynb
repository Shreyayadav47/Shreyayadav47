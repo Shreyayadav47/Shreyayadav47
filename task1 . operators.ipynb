{
 "cells": [
  {
   "cell_type": "code",
   "execution_count": 1,
   "id": "352fba7a-73dc-4496-89c4-28fcfdc50ae3",
   "metadata": {},
   "outputs": [
    {
     "name": "stdout",
     "output_type": "stream",
     "text": [
      "7\n",
      "3\n",
      "10\n",
      "2.5\n",
      "1\n",
      "25\n"
     ]
    }
   ],
   "source": [
    "#Arithmetic Operator ( + ,- ,* ,/ , %, ** )\n",
    "\n",
    "a=5\n",
    "b=2\n",
    "\n",
    "print(a+b)\n",
    "print(a-b)\n",
    "print(a*b)\n",
    "print(a/b)\n",
    "print(a%b)    # remainder\n",
    "print(a**b)   # a^b"
   ]
  },
  {
   "cell_type": "code",
   "execution_count": 2,
   "id": "08389611-82dc-4886-9219-41788869c670",
   "metadata": {},
   "outputs": [
    {
     "name": "stdout",
     "output_type": "stream",
     "text": [
      "True\n",
      "True\n",
      "False\n"
     ]
    }
   ],
   "source": [
    " #logical operator ( And, Or, Not )\n",
    "\n",
    "x = 10\n",
    "print(x > 6 and x < 14)\n",
    "# returns True because 10 is greater than 6 AND 10 is less than 14\n",
    "\n",
    "x = 10\n",
    "print(x > 6 or x < 14)\n",
    "# returns True because one of the conditions are true (10 is greater than 6, but 10 is not less than 14)\n",
    "\n",
    "x = 10\n",
    "print(not(x > 6 and x < 14))\n",
    "# returns False because not is used to reverse the result\n"
   ]
  },
  {
   "cell_type": "code",
   "execution_count": 3,
   "id": "2999ae41-c5c8-45b8-88f4-8b0d0a280cf9",
   "metadata": {},
   "outputs": [
    {
     "name": "stdout",
     "output_type": "stream",
     "text": [
      "14\n",
      "2\n",
      "48\n",
      "1.3333333333333333\n"
     ]
    }
   ],
   "source": [
    "#Assignment Operator ( += ,-= ,*= ,/= )\n",
    "\n",
    "x = 8\n",
    "x += 6\n",
    "print(x)\n",
    "\n",
    "x = 8\n",
    "x -= 6\n",
    "print(x)\n",
    "\n",
    "x = 8\n",
    "x *= 6\n",
    "print(x)\n",
    "\n",
    "x = 8\n",
    "x /= 6\n",
    "print(x)"
   ]
  },
  {
   "cell_type": "code",
   "execution_count": 4,
   "id": "4b57c191-035e-423d-9248-ee013ac0b71e",
   "metadata": {},
   "outputs": [
    {
     "name": "stdout",
     "output_type": "stream",
     "text": [
      "True\n",
      "False\n",
      "False\n",
      "True\n",
      "False\n",
      "True\n"
     ]
    }
   ],
   "source": [
    "# Comparison Operator ( > ,< ,== , != ,<= ,>=)\n",
    "\n",
    "x = 20\n",
    "y = 15\n",
    "print(x > y)\n",
    "# returns True because 20 is greater than 15\n",
    "\n",
    "x = 20\n",
    "y = 15\n",
    "print(x < y)\n",
    "# returns False because 20 is not less than 15\n",
    "\n",
    "x = 20\n",
    "y = 120\n",
    "print(x == y)\n",
    "# returns False because 5 is not equal to 15\n",
    "\n",
    "x = 20\n",
    "y = 15\n",
    "print(x != y)\n",
    "# returns True because 20 is not equal to 15\n",
    "\n",
    "x = 20\n",
    "y = 15\n",
    "print(x <= y)\n",
    "# returns False because 5 is neither less than or equal to 3\n",
    "\n",
    "x = 20\n",
    "y = 15\n",
    "print(x >= y)\n",
    "# returns True because 20 is greater, or equal, to 15"
   ]
  },
  {
   "cell_type": "code",
   "execution_count": null,
   "id": "74a22dbd-8e26-4a88-87da-b7c9fe967e59",
   "metadata": {},
   "outputs": [],
   "source": []
  },
  {
   "cell_type": "code",
   "execution_count": 6,
   "id": "d2de55ea-8686-4ddf-b6ea-62b0965732b6",
   "metadata": {},
   "outputs": [
    {
     "name": "stdout",
     "output_type": "stream",
     "text": [
      "True\n",
      "False\n",
      "True\n",
      "False\n",
      "True\n",
      "False\n"
     ]
    }
   ],
   "source": [
    "# Identity Operator ( is, is not )\n",
    "\n",
    "x = [\"apple\", \"banana\"]\n",
    "y = [\"apple\", \"banana\"]\n",
    "z = x\n",
    "print(x is z)\n",
    "# returns True because z is the same object as \n",
    "print(x is y)\n",
    "# returns False because x is not the same object as y, even if they have the same content\n",
    "print(x == y)\n",
    "# to demonstrate the difference betweeen \"is\" and \"==\": this comparison returns True because x is equal to y\n",
    "\n",
    "\n",
    "x = [\"apple\",\"banana\"]\n",
    "y = [\"apple\", \"banana\"]\n",
    "z = x\n",
    "\n",
    "print(x is not z)\n",
    "# returns False because z is the same object as x\n",
    "print(x is not y)\n",
    "# returns True because x is not the same object as y, even if they have the same content\n",
    "print(x != y)\n",
    "# to demonstrate the difference betweeen \"is not\" and \"!=\": this comparison returns False because x is equal to y"
   ]
  },
  {
   "cell_type": "code",
   "execution_count": 8,
   "id": "8c394b48-73ef-4590-ac21-1c15775d29be",
   "metadata": {},
   "outputs": [
    {
     "name": "stdout",
     "output_type": "stream",
     "text": [
      "True\n",
      "True\n"
     ]
    }
   ],
   "source": [
    "# Membership Operator ( in , not in ) \n",
    "\n",
    "x = [\"apple\", \"banana\"]\n",
    "print(\"banana\" in x)\n",
    "# returns True because a sequence with the value \"banana\" is in the list\n",
    "\n",
    "x = [\"apple\", \"banana\"]\n",
    "print(\"pineapple\" not in x)\n",
    "# returns True because a sequence with the value \"pineapple\" is not in the list\n"
   ]
  },
  {
   "cell_type": "code",
   "execution_count": null,
   "id": "4e0f2cb3-245b-4818-b6f9-ec18c42d7a0d",
   "metadata": {},
   "outputs": [],
   "source": []
  }
 ],
 "metadata": {
  "kernelspec": {
   "display_name": "Python 3 (ipykernel)",
   "language": "python",
   "name": "python3"
  },
  "language_info": {
   "codemirror_mode": {
    "name": "ipython",
    "version": 3
   },
   "file_extension": ".py",
   "mimetype": "text/x-python",
   "name": "python",
   "nbconvert_exporter": "python",
   "pygments_lexer": "ipython3",
   "version": "3.11.7"
  }
 },
 "nbformat": 4,
 "nbformat_minor": 5
}
