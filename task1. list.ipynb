{
 "cells": [
  {
   "cell_type": "code",
   "execution_count": 1,
   "id": "eeaf1cff-d9c7-4e50-b72e-169f2f17bb79",
   "metadata": {},
   "outputs": [
    {
     "data": {
      "text/plain": [
       "['red', 50, 'yellow', 25, 'blue', 64, 'green']"
      ]
     },
     "execution_count": 1,
     "metadata": {},
     "output_type": "execute_result"
    }
   ],
   "source": [
    "#List Creation [] ()\n",
    "l1 = [\"red\",50,\"yellow\",25,\"blue\",64,\"green\"]\n",
    "l1"
   ]
  },
  {
   "cell_type": "code",
   "execution_count": 2,
   "id": "85d1ea08-b991-48fa-b2cd-5ce1ecb4c4c2",
   "metadata": {},
   "outputs": [
    {
     "data": {
      "text/plain": [
       "list"
      ]
     },
     "execution_count": 2,
     "metadata": {},
     "output_type": "execute_result"
    }
   ],
   "source": [
    "type(l1)"
   ]
  },
  {
   "cell_type": "code",
   "execution_count": 3,
   "id": "274823b1-7873-4e50-b48b-055b343c7211",
   "metadata": {},
   "outputs": [
    {
     "data": {
      "text/plain": [
       "[]"
      ]
     },
     "execution_count": 3,
     "metadata": {},
     "output_type": "execute_result"
    }
   ],
   "source": [
    "# empty list \n",
    "this_list = []\n",
    "this_list"
   ]
  },
  {
   "cell_type": "code",
   "execution_count": 4,
   "id": "e52036da-db77-4a74-8dec-d430a787d644",
   "metadata": {},
   "outputs": [
    {
     "data": {
      "text/plain": [
       "[10, 20, 30]"
      ]
     },
     "execution_count": 4,
     "metadata": {},
     "output_type": "execute_result"
    }
   ],
   "source": [
    "# list of integers \n",
    "this_list = [10,20,30]\n",
    "this_list"
   ]
  },
  {
   "cell_type": "code",
   "execution_count": 5,
   "id": "cad408e0-cb11-44c6-9aae-aa2b5028dbce",
   "metadata": {},
   "outputs": [
    {
     "data": {
      "text/plain": [
       "[6, 'shreya', 2.1]"
      ]
     },
     "execution_count": 5,
     "metadata": {},
     "output_type": "execute_result"
    }
   ],
   "source": [
    "# list with mixed datatype (integer, string ,float)\n",
    "this_list = [6,\"shreya\",2.1]\n",
    "this_list"
   ]
  },
  {
   "cell_type": "code",
   "execution_count": 6,
   "id": "35c1c8ff-de3f-4d65-8b40-70cf6911d227",
   "metadata": {},
   "outputs": [
    {
     "data": {
      "text/plain": [
       "[['flower', 5, 9], 8, ['p']]"
      ]
     },
     "execution_count": 6,
     "metadata": {},
     "output_type": "execute_result"
    }
   ],
   "source": [
    "#nested list\n",
    "this_list =[[\"flower\",5,9],8,[\"p\"]]\n",
    "this_list"
   ]
  },
  {
   "cell_type": "code",
   "execution_count": 7,
   "id": "a96a3aec-d0f3-4f2b-bf95-b5362c6276a8",
   "metadata": {},
   "outputs": [
    {
     "data": {
      "text/plain": [
       "'red'"
      ]
     },
     "execution_count": 7,
     "metadata": {},
     "output_type": "execute_result"
    }
   ],
   "source": [
    "# Accesing the items\n",
    "#You acces the list items by referring to the index number\n",
    "l1[0]"
   ]
  },
  {
   "cell_type": "code",
   "execution_count": 8,
   "id": "ce54f1af-90fd-4fdb-97b5-476757e6c416",
   "metadata": {},
   "outputs": [],
   "source": [
    "this_list = ['r','a','i','o','u','s','t']"
   ]
  },
  {
   "cell_type": "code",
   "execution_count": 9,
   "id": "16037541-0e9d-4da6-896f-36d737b9a99b",
   "metadata": {},
   "outputs": [
    {
     "data": {
      "text/plain": [
       "'s'"
      ]
     },
     "execution_count": 9,
     "metadata": {},
     "output_type": "execute_result"
    }
   ],
   "source": [
    "#+ve indexing starting start from zero\n",
    "#-ve indexing starting start from -1\n",
    "this_list[-2]"
   ]
  },
  {
   "cell_type": "code",
   "execution_count": 10,
   "id": "918da403-fd21-419b-ab37-c173da613142",
   "metadata": {},
   "outputs": [
    {
     "data": {
      "text/plain": [
       "['r', 'a', 'i', 'o', 'u', 's', 't']"
      ]
     },
     "execution_count": 10,
     "metadata": {},
     "output_type": "execute_result"
    }
   ],
   "source": [
    "this_list[:] #start: include and end:exclude"
   ]
  },
  {
   "cell_type": "code",
   "execution_count": 11,
   "id": "5af4c511-b96a-404a-b1c9-1ad0f5cb2a5f",
   "metadata": {},
   "outputs": [
    {
     "data": {
      "text/plain": [
       "'i'"
      ]
     },
     "execution_count": 11,
     "metadata": {},
     "output_type": "execute_result"
    }
   ],
   "source": [
    "this_list[2]"
   ]
  },
  {
   "cell_type": "code",
   "execution_count": 12,
   "id": "b57dc14c-5791-4dac-8df4-2ca0543db988",
   "metadata": {},
   "outputs": [],
   "source": [
    "# Nested list \n",
    "n_list = [\"World\",[2,5,3,[6]]]"
   ]
  },
  {
   "cell_type": "code",
   "execution_count": 13,
   "id": "d830451c-2f0d-46c3-b764-8251e6f29211",
   "metadata": {},
   "outputs": [
    {
     "data": {
      "text/plain": [
       "6"
      ]
     },
     "execution_count": 13,
     "metadata": {},
     "output_type": "execute_result"
    }
   ],
   "source": [
    "n_list[-1][3][-1]"
   ]
  },
  {
   "cell_type": "code",
   "execution_count": 14,
   "id": "fa2a6cb0-65da-4fd3-9b7c-58c01a8ea285",
   "metadata": {},
   "outputs": [
    {
     "data": {
      "text/plain": [
       "6"
      ]
     },
     "execution_count": 14,
     "metadata": {},
     "output_type": "execute_result"
    }
   ],
   "source": [
    "n_list[-1][-1][-1]"
   ]
  },
  {
   "cell_type": "code",
   "execution_count": 15,
   "id": "ea8d4874-1fab-4d34-9fec-0ee4b02688e6",
   "metadata": {},
   "outputs": [
    {
     "data": {
      "text/plain": [
       "6"
      ]
     },
     "execution_count": 15,
     "metadata": {},
     "output_type": "execute_result"
    }
   ],
   "source": [
    "#Nested indexing\n",
    "n_list[-1][-1][-1]"
   ]
  },
  {
   "cell_type": "code",
   "execution_count": 16,
   "id": "3ca61a1e-ba2f-403b-8467-62f5b1d0d0ee",
   "metadata": {},
   "outputs": [
    {
     "data": {
      "text/plain": [
       "['r', 'a', 'i', 'o', 'u', 's', 't']"
      ]
     },
     "execution_count": 16,
     "metadata": {},
     "output_type": "execute_result"
    }
   ],
   "source": [
    "#negative indexing-python allows negative indexing for its sequences.\n",
    "#the index of -1 refers to the last item, -2 to the second last item\n",
    "this_list = [ 'r','a','i','o','u','s','t']\n",
    "this_list\n"
   ]
  },
  {
   "cell_type": "code",
   "execution_count": 17,
   "id": "8d4c0dd0-5437-4b2e-9de0-0e301637d0f4",
   "metadata": {},
   "outputs": [
    {
     "name": "stdout",
     "output_type": "stream",
     "text": [
      "u\n"
     ]
    }
   ],
   "source": [
    "print(this_list[4])"
   ]
  },
  {
   "cell_type": "code",
   "execution_count": 18,
   "id": "b5f3f163-4073-4f86-b4c1-d1219d3840e0",
   "metadata": {},
   "outputs": [
    {
     "data": {
      "text/plain": [
       "['p', 't', 'y', 'w', 'r', 'u', 's', 'd', 'z']"
      ]
     },
     "execution_count": 18,
     "metadata": {},
     "output_type": "execute_result"
    }
   ],
   "source": [
    "#slicing-we can access a range of items in a list by using the slicing operator\n",
    "this_list = ['p','t','y','w','r','u','s','d','z']\n",
    "this_list"
   ]
  },
  {
   "cell_type": "code",
   "execution_count": 19,
   "id": "19026b2f-f482-418d-a8f1-5ce9681534ca",
   "metadata": {},
   "outputs": [
    {
     "name": "stdout",
     "output_type": "stream",
     "text": [
      "['w', 'r', 'u']\n"
     ]
    }
   ],
   "source": [
    "# element 3rd to 5th    #start:include    end :exclude\n",
    "print(this_list[3:6])"
   ]
  },
  {
   "cell_type": "code",
   "execution_count": 23,
   "id": "7f007f86-881d-41ef-bc1a-2d629ea4951f",
   "metadata": {},
   "outputs": [
    {
     "name": "stdout",
     "output_type": "stream",
     "text": [
      "['p', 't', 'y', 'w', 'r', 'u', 's', 'd', 'z']\n"
     ]
    }
   ],
   "source": [
    "# element beaing to end \n",
    "print(this_list[:])"
   ]
  },
  {
   "cell_type": "code",
   "execution_count": 25,
   "id": "d7aa9750-0e7c-47e2-99d8-7a29ad69db86",
   "metadata": {},
   "outputs": [
    {
     "data": {
      "text/plain": [
       "['red', 'student', 'yellow', 25, 'blue', 64, 'green']"
      ]
     },
     "execution_count": 25,
     "metadata": {},
     "output_type": "execute_result"
    }
   ],
   "source": [
    "# changes the item value \n",
    "# to change the value of specific item ,refer to the index number \n",
    "l1[1] = \"student\"\n",
    "l1"
   ]
  },
  {
   "cell_type": "code",
   "execution_count": 26,
   "id": "d4f10d9b-36e3-49b3-a702-8a7fa3e7733b",
   "metadata": {},
   "outputs": [
    {
     "data": {
      "text/plain": [
       "7"
      ]
     },
     "execution_count": 26,
     "metadata": {},
     "output_type": "execute_result"
    }
   ],
   "source": [
    "#list length\n",
    "#to determine how many items a list has ,use the length() method \n",
    "len(l1)"
   ]
  },
  {
   "cell_type": "code",
   "execution_count": null,
   "id": "509e6a6f-7599-49ca-b095-8b3ce987e943",
   "metadata": {},
   "outputs": [],
   "source": [
    "List methods\n",
    "\n",
    "Method\n",
    "\n",
    "append()\n",
    "clear()\n",
    "copy()\n",
    "count()\n",
    "extend()\n",
    "index()\n",
    "insert()\n",
    "pop()\n",
    "removes()\n",
    "reverse()\n",
    "sort()"
   ]
  },
  {
   "cell_type": "code",
   "execution_count": 27,
   "id": "1d8503bb-3d12-4d91-83e9-553f026f7555",
   "metadata": {},
   "outputs": [
    {
     "data": {
      "text/plain": [
       "[5, 46, 54, 61, 67, 82]"
      ]
     },
     "execution_count": 27,
     "metadata": {},
     "output_type": "execute_result"
    }
   ],
   "source": [
    "#1-append()-appends an elements to the end of the list.\n",
    "\n",
    "x=[\"apple\",\"banana\",\"cherry\",1,2,3]\n",
    "x.append(\"apple\")\n",
    "y=[5,46,82,61,54,67]\n",
    "y.sort()\n",
    "y"
   ]
  },
  {
   "cell_type": "code",
   "execution_count": 28,
   "id": "3499e208-f9a6-43b6-8d5f-143323cb5f77",
   "metadata": {},
   "outputs": [
    {
     "data": {
      "text/plain": [
       "1"
      ]
     },
     "execution_count": 28,
     "metadata": {},
     "output_type": "execute_result"
    }
   ],
   "source": [
    "x.count(\"banana\")"
   ]
  },
  {
   "cell_type": "code",
   "execution_count": 29,
   "id": "ab22fb6b-fc33-4216-8601-37a9e129a40d",
   "metadata": {},
   "outputs": [
    {
     "data": {
      "text/plain": [
       "['apple', 'banana', 'cherry', 1, 2, 3]"
      ]
     },
     "execution_count": 29,
     "metadata": {},
     "output_type": "execute_result"
    }
   ],
   "source": [
    "x.pop(-1)\n",
    "x"
   ]
  },
  {
   "cell_type": "code",
   "execution_count": 30,
   "id": "1fabf957-584d-435f-b97b-5e3327b07a94",
   "metadata": {},
   "outputs": [
    {
     "data": {
      "text/plain": [
       "['apple', 'banana', 'cherry', 1, 2, 3]"
      ]
     },
     "execution_count": 30,
     "metadata": {},
     "output_type": "execute_result"
    }
   ],
   "source": [
    "# x.clear()\n",
    "x"
   ]
  },
  {
   "cell_type": "code",
   "execution_count": 31,
   "id": "ccab3fca-8abf-4336-b1ea-541b6483c95e",
   "metadata": {},
   "outputs": [
    {
     "data": {
      "text/plain": [
       "['apple', 'banana', 'cherry', 1, 2, 3]"
      ]
     },
     "execution_count": 31,
     "metadata": {},
     "output_type": "execute_result"
    }
   ],
   "source": [
    "x1=x.copy()\n",
    "x1"
   ]
  },
  {
   "cell_type": "code",
   "execution_count": 32,
   "id": "34d25fa3-0153-4b3d-bbeb-c8cc3e081178",
   "metadata": {},
   "outputs": [
    {
     "data": {
      "text/plain": [
       "[3, 2, 1, 'cherry', 'banana', 'apple']"
      ]
     },
     "execution_count": 32,
     "metadata": {},
     "output_type": "execute_result"
    }
   ],
   "source": [
    "x.reverse()\n",
    "x"
   ]
  },
  {
   "cell_type": "code",
   "execution_count": 33,
   "id": "593ed94f-0023-4c81-b4f9-b824b6601b83",
   "metadata": {},
   "outputs": [
    {
     "data": {
      "text/plain": [
       "4"
      ]
     },
     "execution_count": 33,
     "metadata": {},
     "output_type": "execute_result"
    }
   ],
   "source": [
    "x.index(\"banana\")"
   ]
  },
  {
   "cell_type": "code",
   "execution_count": 34,
   "id": "0568c722-e46c-430a-b14c-9c57623f218a",
   "metadata": {},
   "outputs": [
    {
     "data": {
      "text/plain": [
       "[3, 2, 1, 'cherry', 'banana', 'apple', [100, 200, 300]]"
      ]
     },
     "execution_count": 34,
     "metadata": {},
     "output_type": "execute_result"
    }
   ],
   "source": [
    "# append : only one value \n",
    "# Extend : more then 2 value\n",
    "\n",
    "x.append([100,200,300])\n",
    "x"
   ]
  },
  {
   "cell_type": "code",
   "execution_count": 35,
   "id": "e7667360-6760-4e28-9e8d-818f2c120044",
   "metadata": {},
   "outputs": [],
   "source": [
    "#2-clear()-removes all the elements from a list \n",
    "colours = [4,2,3]"
   ]
  },
  {
   "cell_type": "code",
   "execution_count": 36,
   "id": "fe5dbbc7-0a7e-41f2-b8ae-cc69e1f27a5e",
   "metadata": {},
   "outputs": [
    {
     "name": "stdout",
     "output_type": "stream",
     "text": [
      "[4, 2, 3]\n"
     ]
    }
   ],
   "source": [
    "print(colours)"
   ]
  },
  {
   "cell_type": "code",
   "execution_count": 37,
   "id": "55319865-254e-4ed0-affb-b51eb9f0ec20",
   "metadata": {},
   "outputs": [],
   "source": [
    "# 3-copy()-removes all the elements from a list \n",
    "colours = ['red','blue','yellow','green','orange']"
   ]
  },
  {
   "cell_type": "code",
   "execution_count": 38,
   "id": "4870cdf3-8591-4010-b137-158b886ffe1b",
   "metadata": {},
   "outputs": [
    {
     "data": {
      "text/plain": [
       "['red', 'blue', 'yellow', 'green', 'orange']"
      ]
     },
     "execution_count": 38,
     "metadata": {},
     "output_type": "execute_result"
    }
   ],
   "source": [
    "c2 = colours.copy()\n",
    "c2"
   ]
  },
  {
   "cell_type": "code",
   "execution_count": 39,
   "id": "4e38fa0d-51a5-41a5-9650-7bf24a054495",
   "metadata": {},
   "outputs": [
    {
     "data": {
      "text/plain": [
       "2217079896384"
      ]
     },
     "execution_count": 39,
     "metadata": {},
     "output_type": "execute_result"
    }
   ],
   "source": [
    "id(c2)"
   ]
  },
  {
   "cell_type": "code",
   "execution_count": 40,
   "id": "93a90cae-d719-468b-a951-6199a8952b49",
   "metadata": {},
   "outputs": [
    {
     "data": {
      "text/plain": [
       "['red', 'blue', 'yellow', 'green', 'orange']"
      ]
     },
     "execution_count": 40,
     "metadata": {},
     "output_type": "execute_result"
    }
   ],
   "source": [
    "colours"
   ]
  },
  {
   "cell_type": "code",
   "execution_count": 41,
   "id": "5a9ab962-0c5c-4114-87f0-e20b0a4ae95d",
   "metadata": {},
   "outputs": [
    {
     "data": {
      "text/plain": [
       "'yellow'"
      ]
     },
     "execution_count": 41,
     "metadata": {},
     "output_type": "execute_result"
    }
   ],
   "source": [
    "colours.pop(2)"
   ]
  },
  {
   "cell_type": "code",
   "execution_count": 42,
   "id": "feac389e-b13d-4d33-a8c7-2feda3f95fd6",
   "metadata": {},
   "outputs": [
    {
     "data": {
      "text/plain": [
       "['red', 'blue', 'green', 'orange']"
      ]
     },
     "execution_count": 42,
     "metadata": {},
     "output_type": "execute_result"
    }
   ],
   "source": [
    "colours"
   ]
  },
  {
   "cell_type": "code",
   "execution_count": 43,
   "id": "c4b87e6e-4ecf-4787-98a2-97e200a1b46f",
   "metadata": {},
   "outputs": [
    {
     "data": {
      "text/plain": [
       "['red', 'blue', 'yellow', 'green', 'orange']"
      ]
     },
     "execution_count": 43,
     "metadata": {},
     "output_type": "execute_result"
    }
   ],
   "source": [
    "c2"
   ]
  },
  {
   "cell_type": "code",
   "execution_count": 44,
   "id": "eb9d9afe-25db-43df-8cdc-9ff956bfcd19",
   "metadata": {},
   "outputs": [
    {
     "data": {
      "text/plain": [
       "1"
      ]
     },
     "execution_count": 44,
     "metadata": {},
     "output_type": "execute_result"
    }
   ],
   "source": [
    "#4-count()-returns the number of elements with the specified value\n",
    "colours.count(\"blue\")"
   ]
  },
  {
   "cell_type": "code",
   "execution_count": 45,
   "id": "1d80479a-5683-412e-a05d-e9f9fd3203bb",
   "metadata": {},
   "outputs": [],
   "source": [
    "colours = ['red','blue','yellow','green','orange']"
   ]
  },
  {
   "cell_type": "code",
   "execution_count": 46,
   "id": "48c1d625-c915-498e-96c1-9c1d161f901b",
   "metadata": {},
   "outputs": [
    {
     "data": {
      "text/plain": [
       "['Ford', 'BMW', 'Volvo']"
      ]
     },
     "execution_count": 46,
     "metadata": {},
     "output_type": "execute_result"
    }
   ],
   "source": [
    "#5-extend()-adds the specified list elements (or any iterable to the end)\n",
    "cars = ['Ford','BMW','Volvo']\n",
    "cars"
   ]
  },
  {
   "cell_type": "code",
   "execution_count": 47,
   "id": "4ed43c51-9126-46b8-bf17-41d8fe16fc64",
   "metadata": {},
   "outputs": [
    {
     "data": {
      "text/plain": [
       "['red', 'blue', 'yellow', 'green', 'orange', ['Ford', 'BMW', 'Volvo']]"
      ]
     },
     "execution_count": 47,
     "metadata": {},
     "output_type": "execute_result"
    }
   ],
   "source": [
    "colours.append(cars)\n",
    "colours"
   ]
  },
  {
   "cell_type": "code",
   "execution_count": 48,
   "id": "74576af1-55d2-4e6b-a212-f6442c1209f3",
   "metadata": {},
   "outputs": [
    {
     "data": {
      "text/plain": [
       "6"
      ]
     },
     "execution_count": 48,
     "metadata": {},
     "output_type": "execute_result"
    }
   ],
   "source": [
    "len(colours)"
   ]
  },
  {
   "cell_type": "code",
   "execution_count": 49,
   "id": "0d57d962-8d9f-4c58-9dbb-339d5609b353",
   "metadata": {},
   "outputs": [],
   "source": [
    "colours.extend(cars)"
   ]
  },
  {
   "cell_type": "code",
   "execution_count": 50,
   "id": "c5f51ad9-752f-47e1-832f-8ad1d9603d5c",
   "metadata": {},
   "outputs": [
    {
     "data": {
      "text/plain": [
       "['red',\n",
       " 'blue',\n",
       " 'yellow',\n",
       " 'green',\n",
       " 'orange',\n",
       " ['Ford', 'BMW', 'Volvo'],\n",
       " 'Ford',\n",
       " 'BMW',\n",
       " 'Volvo']"
      ]
     },
     "execution_count": 50,
     "metadata": {},
     "output_type": "execute_result"
    }
   ],
   "source": [
    "colours"
   ]
  },
  {
   "cell_type": "code",
   "execution_count": 51,
   "id": "fa774e8f-a162-4f74-b97a-3cf9634419ff",
   "metadata": {},
   "outputs": [
    {
     "data": {
      "text/plain": [
       "0"
      ]
     },
     "execution_count": 51,
     "metadata": {},
     "output_type": "execute_result"
    }
   ],
   "source": [
    "#6-index()-returns the position at the first occurrence of the specified value\n",
    "colours.index(\"red\")"
   ]
  },
  {
   "cell_type": "code",
   "execution_count": 52,
   "id": "c5a96ccd-c2ce-4ae3-91d3-6852177a6871",
   "metadata": {},
   "outputs": [
    {
     "name": "stdout",
     "output_type": "stream",
     "text": [
      "['pune', 'red', 'blue', 'yellow', 'green', 'orange', ['Ford', 'BMW', 'Volvo'], 'Ford', 'BMW', 'Volvo']\n"
     ]
    }
   ],
   "source": [
    "#7-insert()-insert the specified value at the specified position \n",
    "colours.insert(0,\"pune\")\n",
    "print(colours)"
   ]
  },
  {
   "cell_type": "code",
   "execution_count": 53,
   "id": "63f1bd74-96aa-44c6-95a6-2841a8b3ec03",
   "metadata": {},
   "outputs": [
    {
     "data": {
      "text/plain": [
       "['pune',\n",
       " 'red',\n",
       " 'blue',\n",
       " 'yellow',\n",
       " 'green',\n",
       " 'orange',\n",
       " ['Ford', 'BMW', 'Volvo'],\n",
       " 'Ford',\n",
       " 'BMW',\n",
       " 'Volvo']"
      ]
     },
     "execution_count": 53,
     "metadata": {},
     "output_type": "execute_result"
    }
   ],
   "source": [
    "colours"
   ]
  },
  {
   "cell_type": "code",
   "execution_count": 54,
   "id": "5b0d627f-f57b-4124-ac11-92a0b595a2ec",
   "metadata": {},
   "outputs": [],
   "source": [
    "#position : pop\n",
    "#value : remove"
   ]
  },
  {
   "cell_type": "code",
   "execution_count": 55,
   "id": "685bf2ec-0b96-40c3-8163-c8011d80fc02",
   "metadata": {},
   "outputs": [
    {
     "data": {
      "text/plain": [
       "'blue'"
      ]
     },
     "execution_count": 55,
     "metadata": {},
     "output_type": "execute_result"
    }
   ],
   "source": [
    "#8-pop()-removes the element at the specified position \n",
    "colours.pop(2)"
   ]
  },
  {
   "cell_type": "code",
   "execution_count": 57,
   "id": "ae9149f1-33a9-41a8-a68e-8307f43cd63f",
   "metadata": {},
   "outputs": [
    {
     "data": {
      "text/plain": [
       "['pune',\n",
       " 'red',\n",
       " 'green',\n",
       " 'orange',\n",
       " ['Ford', 'BMW', 'Volvo'],\n",
       " 'Ford',\n",
       " 'BMW',\n",
       " 'Volvo']"
      ]
     },
     "execution_count": 57,
     "metadata": {},
     "output_type": "execute_result"
    }
   ],
   "source": [
    "colours.remove(\"yellow\")\n",
    "colours"
   ]
  },
  {
   "cell_type": "code",
   "execution_count": 58,
   "id": "c536de74-9b94-4183-8372-a2afa0236afb",
   "metadata": {},
   "outputs": [
    {
     "data": {
      "text/plain": [
       "['apple', 'banana', 'cherry']"
      ]
     },
     "execution_count": 58,
     "metadata": {},
     "output_type": "execute_result"
    }
   ],
   "source": [
    "#9-removes()-removes the specified item \n",
    "this_list = [\"apple\",\"banana\",\"cherry\"]\n",
    "this_list"
   ]
  },
  {
   "cell_type": "code",
   "execution_count": 59,
   "id": "b3d6d109-af6f-41c5-aea8-e960b079aeb0",
   "metadata": {},
   "outputs": [],
   "source": [
    "#9-revers()-reverses the sorting order of the elements\n",
    "colours.reverse()"
   ]
  },
  {
   "cell_type": "code",
   "execution_count": 60,
   "id": "f46cc694-fd00-4fd2-99cd-65721008690c",
   "metadata": {},
   "outputs": [
    {
     "data": {
      "text/plain": [
       "[5, 4, 3, 2, 1]"
      ]
     },
     "execution_count": 60,
     "metadata": {},
     "output_type": "execute_result"
    }
   ],
   "source": [
    "r=[1,2,3,4,5]\n",
    "r.reverse()\n",
    "r"
   ]
  },
  {
   "cell_type": "code",
   "execution_count": 61,
   "id": "fb98bfe5-4580-40ef-a519-97d143c7eeaf",
   "metadata": {},
   "outputs": [
    {
     "data": {
      "text/plain": [
       "['Volvo',\n",
       " 'BMW',\n",
       " 'Ford',\n",
       " ['Ford', 'BMW', 'Volvo'],\n",
       " 'orange',\n",
       " 'green',\n",
       " 'red',\n",
       " 'pune']"
      ]
     },
     "execution_count": 61,
     "metadata": {},
     "output_type": "execute_result"
    }
   ],
   "source": [
    "colours"
   ]
  },
  {
   "cell_type": "code",
   "execution_count": 62,
   "id": "9bed0af0-6d63-438a-9420-690bd5b0d8ac",
   "metadata": {},
   "outputs": [
    {
     "data": {
      "text/plain": [
       "[1, 2, 3, 4, 5]"
      ]
     },
     "execution_count": 62,
     "metadata": {},
     "output_type": "execute_result"
    }
   ],
   "source": [
    "#10-sort()-sort the list ascending by defalt\n",
    "r.sort()\n",
    "r"
   ]
  },
  {
   "cell_type": "code",
   "execution_count": 65,
   "id": "df11b168-f9a4-4c6d-a1eb-59df8cdd5cf2",
   "metadata": {},
   "outputs": [
    {
     "data": {
      "text/plain": [
       "1"
      ]
     },
     "execution_count": 65,
     "metadata": {},
     "output_type": "execute_result"
    }
   ],
   "source": [
    "l=(1,2,3,4)\n",
    "l1=1\n",
    "l1"
   ]
  },
  {
   "cell_type": "code",
   "execution_count": 66,
   "id": "a4a06fc8-e391-4b5f-a3af-78c9aa2a2b10",
   "metadata": {},
   "outputs": [
    {
     "data": {
      "text/plain": [
       "2217093082672"
      ]
     },
     "execution_count": 66,
     "metadata": {},
     "output_type": "execute_result"
    }
   ],
   "source": [
    "id(l)"
   ]
  },
  {
   "cell_type": "code",
   "execution_count": 67,
   "id": "ec3eb554-9877-4359-ba7c-d17e2696f32f",
   "metadata": {},
   "outputs": [
    {
     "data": {
      "text/plain": [
       "5"
      ]
     },
     "execution_count": 67,
     "metadata": {},
     "output_type": "execute_result"
    }
   ],
   "source": [
    "int(float(\"5.0\"))"
   ]
  },
  {
   "cell_type": "code",
   "execution_count": null,
   "id": "2081cf72-7fc4-40e1-a429-be04e8899868",
   "metadata": {},
   "outputs": [],
   "source": [
    "tupple==>list,set\n",
    "list==>tuple ,set\n",
    "set==>tuple,list\n",
    "\n",
    "int==>float,str\n",
    "float==>int,str\n",
    "str==>int,float"
   ]
  }
 ],
 "metadata": {
  "kernelspec": {
   "display_name": "Python 3 (ipykernel)",
   "language": "python",
   "name": "python3"
  },
  "language_info": {
   "codemirror_mode": {
    "name": "ipython",
    "version": 3
   },
   "file_extension": ".py",
   "mimetype": "text/x-python",
   "name": "python",
   "nbconvert_exporter": "python",
   "pygments_lexer": "ipython3",
   "version": "3.11.7"
  }
 },
 "nbformat": 4,
 "nbformat_minor": 5
}
