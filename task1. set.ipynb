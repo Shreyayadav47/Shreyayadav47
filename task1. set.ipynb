{
 "cells": [
  {
   "cell_type": "code",
   "execution_count": 1,
   "id": "49e9c808-8ace-49d3-b547-1e01f4f00585",
   "metadata": {},
   "outputs": [],
   "source": [
    "myset = {\"red\", \"yellow\", \"green\"}"
   ]
  },
  {
   "cell_type": "code",
   "execution_count": 2,
   "id": "0a9d5b90-22b0-456b-8895-347076ffd4e3",
   "metadata": {},
   "outputs": [
    {
     "name": "stdout",
     "output_type": "stream",
     "text": [
      "{'yellow', 'red', 'green'}\n"
     ]
    }
   ],
   "source": [
    "#Create a Set:\n",
    "\n",
    "thisset = {\"red\", \"yellow\", \"green\"}\n",
    "print(thisset)"
   ]
  },
  {
   "cell_type": "code",
   "execution_count": 3,
   "id": "637308db-7c05-48fb-8dd2-47ee7f918f9c",
   "metadata": {},
   "outputs": [
    {
     "name": "stdout",
     "output_type": "stream",
     "text": [
      "{'yellow', 'red', 'green'}\n"
     ]
    }
   ],
   "source": [
    "#Duplicates Not Allowed\n",
    "#Sets cannot have two items with the same value.\n",
    "\n",
    "thisset = {\"red\", \"yellow\", \"green\"}\n",
    "print(thisset)"
   ]
  },
  {
   "cell_type": "code",
   "execution_count": 4,
   "id": "82d97fb5-9a14-4c41-9546-fcd744a292ee",
   "metadata": {},
   "outputs": [
    {
     "name": "stdout",
     "output_type": "stream",
     "text": [
      "{True, 2, 'yellow', 'red', 'green'}\n"
     ]
    }
   ],
   "source": [
    "#True and 1 is considered the same value:\n",
    "\n",
    "thisset = {\"red\", \"yellow\", \"green\", True, 1, 2}\n",
    "print(thisset)"
   ]
  },
  {
   "cell_type": "code",
   "execution_count": 5,
   "id": "83e7aaba-a8b3-4425-b6c4-33fbe0e536a0",
   "metadata": {},
   "outputs": [
    {
     "name": "stdout",
     "output_type": "stream",
     "text": [
      "{False, True, 'yellow', 'red', 'green'}\n"
     ]
    }
   ],
   "source": [
    "#False and 0 is considered the same value:\n",
    "\n",
    "thisset = {\"red\", \"yellow\", \"green\", False, True, 0}\n",
    "print(thisset)"
   ]
  },
  {
   "cell_type": "code",
   "execution_count": 6,
   "id": "ed1a85e7-4b5f-4807-971f-6295850abfc8",
   "metadata": {},
   "outputs": [
    {
     "name": "stdout",
     "output_type": "stream",
     "text": [
      "3\n"
     ]
    }
   ],
   "source": [
    "# Length of a Set\n",
    "#To determine how many items a set has, use the len() function.\n",
    "\n",
    "thisset = {\"red\", \"yellow\", \"green\"}\n",
    "print(len(thisset))"
   ]
  },
  {
   "cell_type": "code",
   "execution_count": 8,
   "id": "3b42d598-1280-4ad5-a758-d640f573a585",
   "metadata": {},
   "outputs": [
    {
     "name": "stdout",
     "output_type": "stream",
     "text": [
      "{'yellow', 'red', 'green'}\n",
      "{1, 3, 5, 7, 9}\n",
      "{False, True}\n"
     ]
    }
   ],
   "source": [
    "##Set Items - Data Types\n",
    "#Set items can be of any data type:\n",
    "\n",
    "set1 = {\"red\", \"yellow\", \"green\"}\n",
    "print(set1)\n",
    "\n",
    "set2 = {1, 5, 7, 9, 3}\n",
    "print(set2)\n",
    "\n",
    "set3 = {True, False, False}\n",
    "print(set3)"
   ]
  },
  {
   "cell_type": "code",
   "execution_count": 9,
   "id": "50a6cbf7-9548-44dc-91a8-88156c6b0184",
   "metadata": {},
   "outputs": [
    {
     "name": "stdout",
     "output_type": "stream",
     "text": [
      "{64, True, 50, 'female', 'pqr'}\n"
     ]
    }
   ],
   "source": [
    "#A set can contain different data types:\n",
    "\n",
    "set1 = {\"pqr\", 64, True, 50, \"female\"}\n",
    "print(set1)"
   ]
  },
  {
   "cell_type": "code",
   "execution_count": 10,
   "id": "fa75b719-e23b-4855-a8b7-b4e142400316",
   "metadata": {},
   "outputs": [
    {
     "name": "stdout",
     "output_type": "stream",
     "text": [
      "<class 'set'>\n"
     ]
    }
   ],
   "source": [
    "#type()\n",
    "myset = {\"red\", \"yellow\", \"green\"}\n",
    "print(type(myset))\n"
   ]
  },
  {
   "cell_type": "code",
   "execution_count": 11,
   "id": "b0d37417-8281-4384-bad1-c196770bbc60",
   "metadata": {},
   "outputs": [
    {
     "name": "stdout",
     "output_type": "stream",
     "text": [
      "{'yellow', 'red', 'green'}\n"
     ]
    }
   ],
   "source": [
    "#The set() Constructor\n",
    "#It is also possible to use the set() constructor to make a set.\n",
    "\n",
    "thisset = set((\"red\", \"yellow\", \"green\"))\n",
    "print(thisset)\n",
    "# Note: the set list is unordered, so the result will display the items in a random order.\n"
   ]
  },
  {
   "cell_type": "code",
   "execution_count": 12,
   "id": "e4f3c927-dd15-4aa3-a095-6a38724bfab7",
   "metadata": {},
   "outputs": [
    {
     "name": "stdout",
     "output_type": "stream",
     "text": [
      "yellow\n",
      "red\n",
      "green\n"
     ]
    }
   ],
   "source": [
    "#Access Items\n",
    "thisset = {\"red\", \"yellow\", \"green\"}\n",
    "\n",
    "for x in thisset:\n",
    "  print(x)"
   ]
  },
  {
   "cell_type": "code",
   "execution_count": 13,
   "id": "5a84fd34-f44f-4b1c-a482-e806f38906f9",
   "metadata": {},
   "outputs": [
    {
     "name": "stdout",
     "output_type": "stream",
     "text": [
      "False\n"
     ]
    }
   ],
   "source": [
    "#Check if \"yellow\" is present in the set:\n",
    "\n",
    "thisset = {\"red\", \"yellow\", \"green\"}\n",
    "print(\"yellow\" not in thisset)"
   ]
  },
  {
   "cell_type": "code",
   "execution_count": 14,
   "id": "61b67214-9223-4470-a0bc-e5a911294db2",
   "metadata": {},
   "outputs": [
    {
     "name": "stdout",
     "output_type": "stream",
     "text": [
      "{'yellow', 'red', 'green', 'orange'}\n"
     ]
    }
   ],
   "source": [
    "#Add Items\n",
    "#To add one item to a set use the add() method.\n",
    "\n",
    "thisset = {\"red\", \"yellow\", \"green\"}\n",
    "thisset.add(\"orange\")\n",
    "print(thisset)"
   ]
  },
  {
   "cell_type": "code",
   "execution_count": 16,
   "id": "6a95c3af-3ef7-4e72-8585-6c7afddcf7d6",
   "metadata": {},
   "outputs": [
    {
     "name": "stdout",
     "output_type": "stream",
     "text": [
      "{'pink', 'blue', 'yellow', 'red', 'purple', 'green'}\n"
     ]
    }
   ],
   "source": [
    "#Add Sets\n",
    "#To add items from another set into the current set, use the update() method.\n",
    "\n",
    "thisset = {\"red\", \"yellow\", \"green\"}\n",
    "tropical = {\"purple\", \"pink\", \"blue\"}\n",
    "thisset.update(tropical)\n",
    "print(thisset)"
   ]
  },
  {
   "cell_type": "code",
   "execution_count": 17,
   "id": "c686f53b-8664-4067-8dd1-bc412c7874aa",
   "metadata": {},
   "outputs": [
    {
     "name": "stdout",
     "output_type": "stream",
     "text": [
      "{'yellow', 'red', 'green', 'black', 'orange'}\n"
     ]
    }
   ],
   "source": [
    "#Add Any Iterable\n",
    "#The object in the update() method does not have to be a set, it can be any iterable object (tuples, lists, dictionaries etc.).\n",
    "\n",
    "thisset = {\"red\", \"yellow\", \"green\"}\n",
    "mylist = [\"black\", \"orange\"]\n",
    "thisset.update(mylist)\n",
    "print(thisset)"
   ]
  },
  {
   "cell_type": "code",
   "execution_count": 18,
   "id": "3b778450-c1c0-4a73-baa8-af70bd980cf2",
   "metadata": {},
   "outputs": [
    {
     "name": "stdout",
     "output_type": "stream",
     "text": [
      "{'red', 'green'}\n"
     ]
    }
   ],
   "source": [
    "#Remove Item\n",
    "#To remove an item in a set, use the remove(), or the discard() method.\n",
    "\n",
    "thisset = {\"red\", \"yellow\", \"green\"}\n",
    "thisset.remove(\"yellow\")\n",
    "print(thisset)"
   ]
  },
  {
   "cell_type": "code",
   "execution_count": 19,
   "id": "396e14fa-b9af-47f9-a96f-9fd83f6af835",
   "metadata": {},
   "outputs": [
    {
     "name": "stdout",
     "output_type": "stream",
     "text": [
      "{'red', 'green'}\n"
     ]
    }
   ],
   "source": [
    "#Remove \"banana\" by using the discard() method:\n",
    "thisset = {\"red\", \"yellow\", \"green\"}\n",
    "thisset.discard(\"yellow\")\n",
    "print(thisset)"
   ]
  },
  {
   "cell_type": "code",
   "execution_count": 20,
   "id": "5839995e-e03d-45cd-8123-6601e5137337",
   "metadata": {},
   "outputs": [
    {
     "name": "stdout",
     "output_type": "stream",
     "text": [
      "yellow\n",
      "{'red', 'green'}\n"
     ]
    }
   ],
   "source": [
    "#Remove a random item by using the pop() method:\n",
    "\n",
    "thisset = {\"red\", \"yellow\", \"green\"}\n",
    "x = thisset.pop()\n",
    "print(x)           #removed item\n",
    "print(thisset)     #the set after removal "
   ]
  },
  {
   "cell_type": "code",
   "execution_count": 21,
   "id": "ee09ac77-329c-43fe-a18a-d11039a8d881",
   "metadata": {},
   "outputs": [
    {
     "name": "stdout",
     "output_type": "stream",
     "text": [
      "set()\n"
     ]
    }
   ],
   "source": [
    "#The clear() method empties the set:\n",
    "\n",
    "thisset = {\"red\", \"yellow\", \"green\"}\n",
    "thisset.clear()\n",
    "print(thisset)"
   ]
  },
  {
   "cell_type": "code",
   "execution_count": 23,
   "id": "2fd8d8da-0a05-40e7-b078-978bdf95cdd8",
   "metadata": {},
   "outputs": [
    {
     "name": "stdout",
     "output_type": "stream",
     "text": [
      "yellow\n",
      "red\n",
      "green\n"
     ]
    }
   ],
   "source": [
    "#Loop Items\n",
    "#You can loop through the set items by using a for loop:\n",
    "\n",
    "thisset = {\"red\", \"yellow\", \"green\"}\n",
    "for x in thisset:\n",
    "  print(x)"
   ]
  },
  {
   "cell_type": "code",
   "execution_count": null,
   "id": "1b2f9158-ac24-40c9-bb7c-e6c909860d06",
   "metadata": {},
   "outputs": [],
   "source": [
    "#Join Sets\n",
    "The union() and update() methods joins all items from both sets.\n",
    "\n",
    "The intersection() method keeps ONLY the duplicates.\n",
    "\n",
    "The difference() method keeps the items from the first set that are not in the other set(s).\n",
    "\n",
    "The symmetric_difference() method keeps all items EXCEPT the duplicates.\n"
   ]
  },
  {
   "cell_type": "code",
   "execution_count": 24,
   "id": "25c6e39c-1849-421e-9c07-a2e840f4ddcb",
   "metadata": {},
   "outputs": [
    {
     "name": "stdout",
     "output_type": "stream",
     "text": [
      "{20, 'r', 10, 'p', 30, 'q'}\n"
     ]
    }
   ],
   "source": [
    "#Union\n",
    "#The union() method returns a new set with all items from both sets.\n",
    "\n",
    "set1 = {\"p\", \"q\", \"r\"}\n",
    "set2 = {10, 20, 30}\n",
    "\n",
    "set3 = set1.union(set2)\n",
    "print(set3)"
   ]
  },
  {
   "cell_type": "code",
   "execution_count": 25,
   "id": "1388a9a0-a950-435b-a287-11560917d23c",
   "metadata": {},
   "outputs": [
    {
     "name": "stdout",
     "output_type": "stream",
     "text": [
      "{20, 'r', 10, 'p', 30, 'q'}\n"
     ]
    }
   ],
   "source": [
    "#You can use the | operator instead of the union() method, and you will get the same result.\n",
    "set1 = {\"p\", \"q\", \"r\"}\n",
    "set2 = {10, 20, 30}\n",
    "\n",
    "set3 = set1 | set2\n",
    "print(set3)"
   ]
  },
  {
   "cell_type": "code",
   "execution_count": 26,
   "id": "33f73322-a33a-4c8f-85fe-275c0f9efadd",
   "metadata": {},
   "outputs": [
    {
     "name": "stdout",
     "output_type": "stream",
     "text": [
      "{'Elena', 'apple', 'bananas', 10, 'cherry', 'John', 20, 'r', 'p', 30, 'q'}\n"
     ]
    }
   ],
   "source": [
    "#Join Multiple Sets\n",
    "#When using a method, just add more sets in the parentheses, separated by commas:\n",
    "\n",
    "set1 = {\"p\", \"q\", \"r\"}\n",
    "set2 = {10, 20, 30}\n",
    "set3 = {\"John\", \"Elena\"}\n",
    "set4 = {\"apple\", \"bananas\", \"cherry\"}\n",
    "\n",
    "myset = set1.union(set2, set3, set4)\n",
    "print(myset)"
   ]
  },
  {
   "cell_type": "code",
   "execution_count": 27,
   "id": "4049a549-836f-41b5-8fd9-1a196d6328c9",
   "metadata": {},
   "outputs": [
    {
     "name": "stdout",
     "output_type": "stream",
     "text": [
      "{'Elena', 'apple', 'bananas', 10, 'cherry', 'John', 20, 'r', 'p', 30, 'q'}\n"
     ]
    }
   ],
   "source": [
    "#When using the | operator, separate the sets with more | operators:\n",
    "set1 = {\"p\", \"q\", \"r\"}\n",
    "set2 = {10, 20, 30}\n",
    "set3 = {\"John\", \"Elena\"}\n",
    "set4 = {\"apple\", \"bananas\", \"cherry\"}\n",
    "\n",
    "myset = set1 | set2 | set3 |set4\n",
    "print(myset)"
   ]
  },
  {
   "cell_type": "code",
   "execution_count": 28,
   "id": "443d120b-023e-4f9d-a13a-b26158f0fb9b",
   "metadata": {},
   "outputs": [
    {
     "name": "stdout",
     "output_type": "stream",
     "text": [
      "{10, 20, 'r', 'p', 30, 'q'}\n"
     ]
    }
   ],
   "source": [
    "#Join a Set and a Tuple\n",
    "#The union() method allows you to join a set with other data types, like lists or tuples.\n",
    "\n",
    "x = {\"p\", \"q\", \"r\"}\n",
    "y = (10, 20, 30)\n",
    "\n",
    "z = x.union(y)\n",
    "print(z)"
   ]
  },
  {
   "cell_type": "code",
   "execution_count": 29,
   "id": "6dff1701-5eb1-4b27-b583-84b1fdbfcc22",
   "metadata": {},
   "outputs": [
    {
     "name": "stdout",
     "output_type": "stream",
     "text": [
      "{20, 'r', 10, 'p', 30, 'q'}\n"
     ]
    }
   ],
   "source": [
    "#Update\n",
    "#The update() method inserts all items from one set into another.\n",
    "#The update() changes the original set, and does not return a new set.\n",
    "\n",
    "set1 = {\"p\", \"q\" , \"r\"}\n",
    "set2 = {10, 20, 30}\n",
    "\n",
    "set1.update(set2)\n",
    "print(set1)"
   ]
  },
  {
   "cell_type": "code",
   "execution_count": 31,
   "id": "6f797696-4a72-4158-8618-d15e3e0e4b7f",
   "metadata": {},
   "outputs": [
    {
     "name": "stdout",
     "output_type": "stream",
     "text": [
      "{'apple'}\n"
     ]
    }
   ],
   "source": [
    "#Intersection\n",
    "#The intersection() method will return a new set, that only contains the items that are present in both sets.\n",
    "\n",
    "set1 = {\"apple\", \"banana\", \"cherry\"}\n",
    "set2 = {\"google\", \"microsoft\", \"apple\"}\n",
    "\n",
    "set3 = set1.intersection(set2)\n",
    "print(set3)\n"
   ]
  },
  {
   "cell_type": "code",
   "execution_count": 32,
   "id": "037a0d8d-8ff6-409c-8e62-45a3ff5d8600",
   "metadata": {},
   "outputs": [
    {
     "name": "stdout",
     "output_type": "stream",
     "text": [
      "{'apple'}\n"
     ]
    }
   ],
   "source": [
    "#You can use the & operator instead of the intersection() method, and you will get the same result.\n",
    "set1 = {\"apple\", \"banana\" , \"cherry\"}\n",
    "set2 = {\"google\", \"microsoft\", \"apple\"}\n",
    "\n",
    "set3 = set1 & set2\n",
    "print(set3)"
   ]
  },
  {
   "cell_type": "code",
   "execution_count": 33,
   "id": "b5624708-805f-4c80-b980-d8c16142951c",
   "metadata": {},
   "outputs": [
    {
     "name": "stdout",
     "output_type": "stream",
     "text": [
      "{'apple'}\n"
     ]
    }
   ],
   "source": [
    "#The intersection_update() method will also keep ONLY the duplicates, but it will change the original set instead of returning a new set.\n",
    "set1 = {\"apple\", \"banana\", \"cherry\"}\n",
    "set2 = {\"google\", \"microsoft\", \"apple\"}\n",
    "\n",
    "set1.intersection_update(set2)\n",
    "print(set1)\n"
   ]
  },
  {
   "cell_type": "code",
   "execution_count": 35,
   "id": "e853d58c-4c04-4296-abb8-c2290370b31f",
   "metadata": {},
   "outputs": [
    {
     "name": "stdout",
     "output_type": "stream",
     "text": [
      "{False, True, 'apple'}\n"
     ]
    }
   ],
   "source": [
    "#The values True and 1 are considered the same value. The same goes for False and 0.\n",
    "\n",
    "set1 = {\"apple\", 1, \"banana\", 0, \"cherry\"}\n",
    "set2 = {False, \"google\", \"microsoft\", \"apple\", True}\n",
    "\n",
    "set3 = set1.intersection(set2)\n",
    "print(set3)\n"
   ]
  },
  {
   "cell_type": "code",
   "execution_count": 36,
   "id": "a5af3815-a386-4240-ad77-b43cb816cca9",
   "metadata": {},
   "outputs": [
    {
     "name": "stdout",
     "output_type": "stream",
     "text": [
      "{'banana', 'cherry'}\n"
     ]
    }
   ],
   "source": [
    "#Difference\n",
    "#The difference() method will return a new set that will contain only the items from the first set that are not present in the other set.\n",
    "\n",
    "set1 = {\"apple\", \"banana\", \"cherry\"}\n",
    "set2 = {\"google\", \"microsoft\", \"apple\"}\n",
    "set3 = set1.difference(set2)\n",
    "print(set3)"
   ]
  },
  {
   "cell_type": "code",
   "execution_count": 37,
   "id": "dab8d286-6c81-4919-b230-1d0724df3fb0",
   "metadata": {},
   "outputs": [
    {
     "name": "stdout",
     "output_type": "stream",
     "text": [
      "{'banana', 'cherry'}\n"
     ]
    }
   ],
   "source": [
    "#You can use the - operator instead of the difference() method, and you will get the same result.\n",
    "\n",
    "set1 = {\"apple\", \"banana\", \"cherry\"}\n",
    "set2 = {\"google\", \"microsoft\", \"apple\"}\n",
    "set3 = set1 - set2\n",
    "print(set3)"
   ]
  },
  {
   "cell_type": "code",
   "execution_count": 38,
   "id": "6e65bcb0-1bbc-427c-b1f8-4411db35110c",
   "metadata": {},
   "outputs": [
    {
     "name": "stdout",
     "output_type": "stream",
     "text": [
      "{'banana', 'cherry'}\n"
     ]
    }
   ],
   "source": [
    "#The difference_update() method will also keep the items from the first set that are not in the other set,\n",
    "#but it will change the original set instead of returning a new set.\n",
    "\n",
    "set1 = {\"apple\", \"banana\" , \"cherry\"}\n",
    "set2 = {\"google\", \"microsoft\", \"apple\"}\n",
    "set1.difference_update(set2)\n",
    "print(set1)"
   ]
  },
  {
   "cell_type": "code",
   "execution_count": 39,
   "id": "de8934fd-00c7-4c26-9562-b3f50d2f5599",
   "metadata": {},
   "outputs": [
    {
     "name": "stdout",
     "output_type": "stream",
     "text": [
      "{'banana', 'cherry', 'google', 'microsoft'}\n"
     ]
    }
   ],
   "source": [
    "#Symmetric Differences\n",
    "#The symmetric_difference() method will keep only the elements that are NOT present in both sets.\n",
    "\n",
    "set1 = {\"apple\", \"banana\" , \"cherry\"}\n",
    "set2 = {\"google\", \"microsoft\", \"apple\"}\n",
    "set3 = set1.symmetric_difference(set2)\n",
    "print(set3)\n"
   ]
  },
  {
   "cell_type": "code",
   "execution_count": 40,
   "id": "b79c441e-30ac-4521-ab20-878ae9775d27",
   "metadata": {},
   "outputs": [
    {
     "name": "stdout",
     "output_type": "stream",
     "text": [
      "{'banana', 'cherry', 'google', 'microsoft'}\n"
     ]
    }
   ],
   "source": [
    "#You can use the ^ operator instead of the symmetric_difference() method, and you will get the same result.\n",
    "\n",
    "set1 = {\"apple\", \"banana\", \"cherry\"}\n",
    "set2 = {\"google\", \"microsoft\", \"apple\"}\n",
    "set3 = set1 ^ set2\n",
    "print(set3)"
   ]
  },
  {
   "cell_type": "code",
   "execution_count": 41,
   "id": "b5f7918d-c3f3-4555-b80f-975c5872c2b3",
   "metadata": {},
   "outputs": [
    {
     "name": "stdout",
     "output_type": "stream",
     "text": [
      "{'banana', 'cherry', 'google', 'microsoft'}\n"
     ]
    }
   ],
   "source": [
    "#The symmetric_difference_update() method will also keep all but the duplicates, but it will change the original set instead of returning a new set.\n",
    "\n",
    "set1 = {\"apple\", \"banana\" , \"cherry\"}\n",
    "set2 = {\"google\", \"microsoft\", \"apple\"}\n",
    "set1.symmetric_difference_update(set2)\n",
    "print(set1)"
   ]
  },
  {
   "cell_type": "code",
   "execution_count": null,
   "id": "027f61c3-8f07-4480-9917-e215eb200449",
   "metadata": {},
   "outputs": [],
   "source": [
    "#Set Methods\n",
    "\n",
    "Method                                                   Shortcut Description\n",
    "\n",
    "add()\t         \t                                Adds an element to the set\n",
    "clear()\t        \t                                Removes all the elements from the set\n",
    "copy()\t \t                                        Returns a copy of the set\n",
    "difference()\t                    -\t            Returns a set containing the difference between two or more sets\n",
    "difference_update()              \t-\t            Removes the items in this set that are also included in another, specified set\n",
    "discard()\t                                      \tRemove the specified item\n",
    "intersection()      \t            &               Returns a set, that is the intersection of two other sets\n",
    "intersection_update()           \t&=\t            Removes the items in this set that are not present in other, specified set(s)\n",
    "isdisjoint()\t \t                                Returns whether two sets have a intersection or not\n",
    "issubset()\t                       <=\t            Returns whether another set contains this set or not\n",
    "                                \t<\t            Returns whether all items in this set is present in other, specified set(s)\n",
    "issuperset()        \t           >=\t            Returns whether this set contains another set or not\n",
    " \t                                >\t            Returns whether all items in other, specified set(s) is present in this set\n",
    "pop()\t                            \t            Removes an element from the set\n",
    "remove()\t                         \t            Removes the specified element\n",
    "symmetric_difference()          \t^               Returns a set with the symmetric differences of two sets\n",
    "symmetric_difference_update()\t   ^=\t            Inserts the symmetric differences from this set and another\n",
    "union()                         \t|\t            Return a set containing the union of sets\n",
    "update()                         \t|=      \t    Update the set with the union of this set and others\n"
   ]
  }
 ],
 "metadata": {
  "kernelspec": {
   "display_name": "Python 3 (ipykernel)",
   "language": "python",
   "name": "python3"
  },
  "language_info": {
   "codemirror_mode": {
    "name": "ipython",
    "version": 3
   },
   "file_extension": ".py",
   "mimetype": "text/x-python",
   "name": "python",
   "nbconvert_exporter": "python",
   "pygments_lexer": "ipython3",
   "version": "3.11.7"
  }
 },
 "nbformat": 4,
 "nbformat_minor": 5
}
