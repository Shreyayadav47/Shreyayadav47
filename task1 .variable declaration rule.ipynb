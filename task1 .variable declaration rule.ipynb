{
 "cells": [
  {
   "cell_type": "code",
   "execution_count": 1,
   "id": "e867f78d-d6fb-49fe-a41b-5e13bc78afd1",
   "metadata": {},
   "outputs": [
    {
     "name": "stdout",
     "output_type": "stream",
     "text": [
      "10\n",
      "student\n"
     ]
    }
   ],
   "source": [
    "#Creating Variables\n",
    "#Python has no command for declaring a variable.\n",
    "#A variable is created the moment you first assign a value to it.\n",
    "\n",
    "x = 10\n",
    "y = \"student\"\n",
    "print(x)\n",
    "print(y)"
   ]
  },
  {
   "cell_type": "code",
   "execution_count": 2,
   "id": "af909584-7ac3-45c2-b8b6-0dbec386161e",
   "metadata": {},
   "outputs": [
    {
     "name": "stdout",
     "output_type": "stream",
     "text": [
      "money\n"
     ]
    }
   ],
   "source": [
    "#Variables do not need to be declared with any particular type, and can even change type after they have been set.\n",
    "\n",
    "x = 8       # x is of type int\n",
    "x = \"money\" # x is now of type str\n",
    "print(x)"
   ]
  },
  {
   "cell_type": "code",
   "execution_count": 4,
   "id": "b141409a-b404-4d32-85b8-69260812760c",
   "metadata": {},
   "outputs": [
    {
     "name": "stdout",
     "output_type": "stream",
     "text": [
      "5\n",
      "5\n",
      "5.0\n"
     ]
    }
   ],
   "source": [
    "#Casting\n",
    "#If you want to specify the data type of a variable, this can be done with casting.\n",
    "\n",
    "x = str(5)    # x will be '5'\n",
    "y = int(5)    # y will be 5\n",
    "z = float(5)  # z will be 5.0\n",
    "\n",
    "print(x)\n",
    "print(y)\n",
    "print(z)"
   ]
  },
  {
   "cell_type": "code",
   "execution_count": 5,
   "id": "2adbf9b3-bb52-4d7d-bee5-e3b73b10f49a",
   "metadata": {},
   "outputs": [
    {
     "name": "stdout",
     "output_type": "stream",
     "text": [
      "<class 'int'>\n",
      "<class 'str'>\n"
     ]
    }
   ],
   "source": [
    "#Get the Type\n",
    "#You can get the data type of a variable with the type() function.\n",
    "\n",
    "x = 8\n",
    "y = \"student\"\n",
    "print(type(x))\n",
    "print(type(y))"
   ]
  },
  {
   "cell_type": "code",
   "execution_count": 6,
   "id": "4cb612dd-b173-4466-8f3f-f9c716fdddf5",
   "metadata": {},
   "outputs": [
    {
     "name": "stdout",
     "output_type": "stream",
     "text": [
      "student\n",
      "student\n"
     ]
    }
   ],
   "source": [
    "#Single or Double Quotes?\n",
    "#String variables can be declared either by using single or double quotes:\n",
    "\n",
    "x = \"student\"\n",
    "print(x)\n",
    "#double quotes are the same as single quotes:\n",
    "x = 'student'\n",
    "print(x)\n"
   ]
  },
  {
   "cell_type": "code",
   "execution_count": 7,
   "id": "e280d28d-3927-49e0-b630-8aa4f98270e5",
   "metadata": {},
   "outputs": [
    {
     "name": "stdout",
     "output_type": "stream",
     "text": [
      "8\n",
      "money\n"
     ]
    }
   ],
   "source": [
    "#Case-Sensitive\n",
    "#Variable names are case-sensitive.\n",
    "\n",
    "a = 8\n",
    "A = \"money\"\n",
    "\n",
    "print(a)\n",
    "print(A)"
   ]
  },
  {
   "cell_type": "code",
   "execution_count": 8,
   "id": "a3a82615-a18c-46c1-8ee9-50385b190c58",
   "metadata": {},
   "outputs": [
    {
     "name": "stdout",
     "output_type": "stream",
     "text": [
      "student\n",
      "student\n",
      "student\n",
      "student\n",
      "student\n",
      "student\n"
     ]
    }
   ],
   "source": [
    "#Variable Names\n",
    "\n",
    "myvar = \"student\"\n",
    "my_var = \"student\"\n",
    "_my_var = \"student\"\n",
    "myVar = \"student\"\n",
    "MYVAR = \"student\"\n",
    "myvar2 = \"student\"\n",
    "\n",
    "print(myvar)\n",
    "print(my_var)\n",
    "print(_my_var)\n",
    "print(myVar)\n",
    "print(MYVAR)\n",
    "print(myvar2)"
   ]
  },
  {
   "cell_type": "code",
   "execution_count": 9,
   "id": "bf435285-383d-44eb-8c80-9297bda580f3",
   "metadata": {},
   "outputs": [
    {
     "name": "stdout",
     "output_type": "stream",
     "text": [
      "red\n",
      "yellow\n",
      "white\n"
     ]
    }
   ],
   "source": [
    "#Many Values to Multiple Variables\n",
    "x, y, z = \"red\", \"yellow\", \"white\"\n",
    "\n",
    "print(x)\n",
    "print(y)\n",
    "print(z)"
   ]
  },
  {
   "cell_type": "code",
   "execution_count": 11,
   "id": "fa60a2eb-d08a-49c1-8cde-6f219df204f2",
   "metadata": {},
   "outputs": [
    {
     "name": "stdout",
     "output_type": "stream",
     "text": [
      "red\n",
      "red\n",
      "red\n"
     ]
    }
   ],
   "source": [
    "#One Value to Multiple Variables\n",
    "# you can assign the same value to multiple variables in one line:\n",
    "\n",
    "x = y = z = \"red\"\n",
    "print(x)\n",
    "print(y)\n",
    "print(z)"
   ]
  },
  {
   "cell_type": "code",
   "execution_count": 12,
   "id": "3f6c6ed7-6c8b-422e-bafb-edb35a702ec7",
   "metadata": {},
   "outputs": [
    {
     "name": "stdout",
     "output_type": "stream",
     "text": [
      "red\n",
      "yellow\n",
      "white\n"
     ]
    }
   ],
   "source": [
    "#Unpack a Collection\n",
    "#If you have a collection of values in a list, tuple etc. Python allows you to extract the values into variables. This is called unpacking.\n",
    "\n",
    "colours = [\"red\", \"yellow\", \"white\"]\n",
    "x, y, z = colours\n",
    "print(x)\n",
    "print(y)\n",
    "print(z)"
   ]
  },
  {
   "cell_type": "code",
   "execution_count": 13,
   "id": "d0442189-e295-4356-a3b1-439f00bc4f45",
   "metadata": {},
   "outputs": [
    {
     "name": "stdout",
     "output_type": "stream",
     "text": [
      "Python is awesome\n"
     ]
    }
   ],
   "source": [
    "#Output Variables\n",
    "#The Python print() function is often used to output variables.\n",
    "\n",
    "x = \"Python is awesome\"\n",
    "print(x)"
   ]
  },
  {
   "cell_type": "code",
   "execution_count": 14,
   "id": "b81c7949-3966-4cad-bef3-76aa9aeeb8ad",
   "metadata": {},
   "outputs": [
    {
     "name": "stdout",
     "output_type": "stream",
     "text": [
      "Python is awesome\n"
     ]
    }
   ],
   "source": [
    "#In the print() function, you output multiple variables, separated by a comma:\n",
    "\n",
    "x = \"Python\"\n",
    "y = \"is\"\n",
    "z = \"awesome\"\n",
    "print(x, y, z)"
   ]
  },
  {
   "cell_type": "code",
   "execution_count": 15,
   "id": "b5545bfa-a68b-4abd-b61c-b72b08eac37a",
   "metadata": {},
   "outputs": [
    {
     "name": "stdout",
     "output_type": "stream",
     "text": [
      "Python is awesome\n"
     ]
    }
   ],
   "source": [
    "#You can also use the + operator to output multiple variables:\n",
    "\n",
    "x = \"Python \"\n",
    "y = \"is \"\n",
    "z = \"awesome\"\n",
    "print(x + y + z)"
   ]
  },
  {
   "cell_type": "code",
   "execution_count": 16,
   "id": "cc978337-d630-4d24-ad62-3a2d4adcbaf0",
   "metadata": {},
   "outputs": [
    {
     "name": "stdout",
     "output_type": "stream",
     "text": [
      "15\n"
     ]
    }
   ],
   "source": [
    "#For numbers, the + character works as a mathematical operator:\n",
    "\n",
    "x = 5\n",
    "y = 10\n",
    "print(x + y)"
   ]
  },
  {
   "cell_type": "code",
   "execution_count": 17,
   "id": "2b602342-7b2a-4d3f-941b-f86399d81bef",
   "metadata": {},
   "outputs": [
    {
     "name": "stdout",
     "output_type": "stream",
     "text": [
      "8 student\n"
     ]
    }
   ],
   "source": [
    "#The best way to output multiple variables in the print() function is to separate them with commas, which even support different data types:\n",
    "\n",
    "x = 8\n",
    "y = \"student\"\n",
    "print(x, y)"
   ]
  },
  {
   "cell_type": "code",
   "execution_count": 18,
   "id": "fd26aa72-61b1-43b8-ad5f-859ef3ae9938",
   "metadata": {},
   "outputs": [
    {
     "name": "stdout",
     "output_type": "stream",
     "text": [
      "Python is awesome\n"
     ]
    }
   ],
   "source": [
    "#Global Variables\n",
    "x = \"awesome\"\n",
    "\n",
    "def myfunc():\n",
    "  print(\"Python is \" + x)\n",
    "\n",
    "myfunc()"
   ]
  },
  {
   "cell_type": "code",
   "execution_count": 19,
   "id": "61498361-7055-4e66-9bfd-d2c4ede8ff4f",
   "metadata": {},
   "outputs": [
    {
     "name": "stdout",
     "output_type": "stream",
     "text": [
      "Python is fantastic\n",
      "Python is awesome\n"
     ]
    }
   ],
   "source": [
    "#Create a variable inside a function, with the same name as the global variable\n",
    "\n",
    "x = \"awesome\"\n",
    "\n",
    "def myfunc():\n",
    "  x = \"fantastic\"\n",
    "  print(\"Python is \" + x)\n",
    "\n",
    "myfunc()\n",
    "\n",
    "print(\"Python is \" + x)\n"
   ]
  },
  {
   "cell_type": "code",
   "execution_count": 20,
   "id": "9edb20a1-6e0c-440c-b387-976bb3b38882",
   "metadata": {},
   "outputs": [
    {
     "name": "stdout",
     "output_type": "stream",
     "text": [
      "Python is fantastic\n"
     ]
    }
   ],
   "source": [
    "#The global Keyword\n",
    "#To create a global variable inside a function, you can use the global keyword.\n",
    "\n",
    "def myfunc():\n",
    "  global x\n",
    "  x = \"fantastic\"\n",
    "\n",
    "myfunc()\n",
    "\n",
    "print(\"Python is \" + x)"
   ]
  },
  {
   "cell_type": "code",
   "execution_count": 21,
   "id": "abef1f12-0450-4cc1-832a-3100a183d12b",
   "metadata": {},
   "outputs": [
    {
     "name": "stdout",
     "output_type": "stream",
     "text": [
      "Python is fantastic\n"
     ]
    }
   ],
   "source": [
    "#To change the value of a global variable inside a function, refer to the variable by using the global keyword:\n",
    "\n",
    "x = \"awesome\"\n",
    "\n",
    "def myfunc():\n",
    "  global x\n",
    "  x = \"fantastic\"\n",
    "\n",
    "myfunc()\n",
    "\n",
    "print(\"Python is \" + x)"
   ]
  }
 ],
 "metadata": {
  "kernelspec": {
   "display_name": "Python 3 (ipykernel)",
   "language": "python",
   "name": "python3"
  },
  "language_info": {
   "codemirror_mode": {
    "name": "ipython",
    "version": 3
   },
   "file_extension": ".py",
   "mimetype": "text/x-python",
   "name": "python",
   "nbconvert_exporter": "python",
   "pygments_lexer": "ipython3",
   "version": "3.11.7"
  }
 },
 "nbformat": 4,
 "nbformat_minor": 5
}
